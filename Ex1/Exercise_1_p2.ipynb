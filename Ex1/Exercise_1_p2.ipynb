{
 "cells": [
  {
   "cell_type": "markdown",
   "metadata": {},
   "source": [
    "# Floating point arithmetic\n",
    "\n",
    "1. The Machine epsilon $\\epsilon$ is defined as the smallest floating point number such that it holds: \n",
    "   $$ fl(1 + \\epsilon) > 1 $$  \n",
    "   Compute $\\epsilon$. *Tips: use a `while` structure.*\n",
    "\n",
    "2. Let's consider the sequence $ a_n = \\left( 1 + \\frac{1}{n} \\right)^n $. It is well known that: \n",
    "   $$ \\lim_{n \\to \\infty} a_n = e $$ \n",
    "   where $ e $ is the Nepere number.  \n",
    "   Choose different values for $n$, compute $a_n$ and compare it to the real value of the Nepere number. What happens if you choose a large value of $n$?\n",
    "\n",
    "3. Let's consider the matrices:\n",
    "   \n",
    "   $$ A = \\begin{bmatrix} 4 & 2 \\\\ 1 & 3 \\end{bmatrix} \\quad B = \\begin{bmatrix} 4 & 2 \\\\ 2 & 1 \\end{bmatrix} $$\n",
    "\n",
    "   Compute the rank of $A$ and $B$ and their eigenvalues. Are $A $ and $B$ full-rank matrices?  \n",
    "   Can you infer some relationship between the values of the eigenvalues and the full-rank condition?  \n",
    "   Please, corroborate your deduction with other examples.  \n",
    "   *Tips: Please, have a look at `np.linalg`.*"
   ]
  },
  {
   "cell_type": "markdown",
   "metadata": {},
   "source": [
    "1. The Machine epsilon $\\epsilon$ is defined as the smallest floating point number such that it holds: \n",
    "   $$ fl(1 + \\epsilon) > 1 $$  \n",
    "   Compute $\\epsilon$. *Tips: use a `while` structure.*"
   ]
  },
  {
   "cell_type": "code",
   "execution_count": 14,
   "metadata": {},
   "outputs": [],
   "source": [
    "import numpy as np"
   ]
  },
  {
   "cell_type": "code",
   "execution_count": 15,
   "metadata": {},
   "outputs": [
    {
     "name": "stdout",
     "output_type": "stream",
     "text": [
      "The machine epsilon is 2.220446049250313e-16\n",
      "The true machine epsilon is: 2.220446049250313e-16\n"
     ]
    }
   ],
   "source": [
    "epsilon = 1.0\n",
    "\n",
    "# definition of machine epsilon\n",
    "while (1 + epsilon) > 1:\n",
    "    epsilon /= 2\n",
    "\n",
    "# as we stopped the while when epsilon was too small, we \"backtrack\" to the previous one:\n",
    "epsilon *= 2\n",
    "print(f\"The machine epsilon is {epsilon}\") \n",
    "\n",
    "# comparison with true machine epsilon:\n",
    "true_epsilon = np.finfo(float).eps\n",
    "print(f\"The true machine epsilon is: {true_epsilon}\")"
   ]
  },
  {
   "cell_type": "markdown",
   "metadata": {},
   "source": [
    "2. Let's consider the sequence $ a_n = \\left( 1 + \\frac{1}{n} \\right)^n $. It is well known that: \n",
    "   $$ \\lim_{n \\to \\infty} a_n = e $$ \n",
    "   where $ e $ is the Nepere number.  \n",
    "   Choose different values for $n$, compute $a_n$ and compare it to the real value of the Nepere number. What happens if you choose a large value of $n$?"
   ]
  },
  {
   "cell_type": "code",
   "execution_count": 16,
   "metadata": {},
   "outputs": [],
   "source": [
    "import matplotlib.pyplot as plt\n",
    "import math"
   ]
  },
  {
   "cell_type": "code",
   "execution_count": 24,
   "metadata": {},
   "outputs": [
    {
     "data": {
      "image/png": "[encoded data removed]",
      "text/plain": [
       "<Figure size 700x500 with 1 Axes>"
      ]
     },
     "metadata": {},
     "output_type": "display_data"
    }
   ],
   "source": [
    "# Nepere number\n",
    "e_value = math.e\n",
    "\n",
    "n_values = range(1,100)\n",
    "an_values = []\n",
    "\n",
    "# compute a_n for different values of n, from 1 to 100\n",
    "for n in n_values:\n",
    "    a_n = math.pow(1 + 1/ n, n)\n",
    "    an_values.append(a_n)\n",
    "\n",
    "\n",
    "# Plot\n",
    "plt.figure(figsize=(7,  5))\n",
    "plt.plot(n_values, an_values, label=r'$a_n = \\left(1 + \\frac{1}{n}\\right)^n$', color='royalblue', linewidth=2)\n",
    "\n",
    "# Adding horizontal line for e\n",
    "plt.axhline(y=e_value, color='red', linestyle='--', label=r'$e \\approx' + f'{e_value:.3f}$')\n",
    "\n",
    "# Title and labels\n",
    "plt.title(\"Convergence of \" + r'$(1 + 1/n)^n$' + \" to \" +  r'$e$', fontsize=16)\n",
    "plt.xlabel('n', fontsize=12)\n",
    "plt.ylabel(r'$a_n$', fontsize=12)\n",
    "\n",
    "# Grid and legend\n",
    "plt.legend(loc='upper left')\n",
    "\n",
    "plt.show()"
   ]
  },
  {
   "cell_type": "markdown",
   "metadata": {},
   "source": [
    "## Consideration\n",
    "It seems that the more n increases, the more $a_n$ gets closer to the nepere number. Indeed, as we can see from the graph, the sequence $a_n$ converges to the Nepere number $e$.\n",
    "\n",
    "Of course, this result is what we are expecting, since    $$ \\lim_{n \\to \\infty} a_n = e $$ "
   ]
  },
  {
   "cell_type": "markdown",
   "metadata": {},
   "source": [
    "3. Let's consider the matrices:\n",
    "   \n",
    "   $$ A = \\begin{bmatrix} 4 & 2 \\\\ 1 & 3 \\end{bmatrix} \\quad B = \\begin{bmatrix} 4 & 2 \\\\ 2 & 1 \\end{bmatrix} $$\n",
    "\n",
    "   Compute the rank of $A$ and $B$ and their eigenvalues. Are $A $ and $B$ full-rank matrices?  \n",
    "   Can you infer some relationship between the values of the eigenvalues and the full-rank condition?  \n",
    "   Please, corroborate your deduction with other examples.  \n",
    "   *Tips: Please, have a look at `np.linalg`.*"
   ]
  },
  {
   "cell_type": "code",
   "execution_count": 18,
   "metadata": {},
   "outputs": [
    {
     "name": "stdout",
     "output_type": "stream",
     "text": [
      "rank of matrix A is 2, rank of matrix B is 1\n",
      "The eigenvalues of matrix A are [5. 2.], the eigenvalues of matrix B are [5. 0.]\n"
     ]
    }
   ],
   "source": [
    "# matrix definitions\n",
    "A = np.array([[4,2], [1,3]])\n",
    "B = np.array([[4,2], [2,1]])\n",
    "\n",
    "# compute the rank of each matrix\n",
    "A_rank = np.linalg.matrix_rank(A)\n",
    "B_rank = np.linalg.matrix_rank(B)\n",
    "\n",
    "print(f\"rank of matrix A is {A_rank}, rank of matrix B is {B_rank}\")\n",
    "\n",
    "# compute the eigenvalues of each matrix\n",
    "A_eigenvalues = np.linalg.eigvals(A)\n",
    "B_eigenvalues = np.linalg.eigvals(B)\n",
    "\n",
    "print(f\"The eigenvalues of matrix A are {A_eigenvalues}, the eigenvalues of matrix B are {B_eigenvalues}\")"
   ]
  },
  {
   "cell_type": "markdown",
   "metadata": {},
   "source": [
    "### Are $A $ and $B$ full-rank matrices?  \n",
    "A matrix $A$ is a full-rank matrix if its rank is equal to the minimum between the number of rows and columns of $A$.\n",
    "\n",
    "Therefore, $A$ is full rank if: \n",
    "$$ rank_A = \\min(n,m) $$ \n",
    "where $A\\in R^{n\\times m}$"
   ]
  },
  {
   "cell_type": "code",
   "execution_count": 19,
   "metadata": {},
   "outputs": [
    {
     "name": "stdout",
     "output_type": "stream",
     "text": [
      "Matrix A is full-rank\n",
      "Matrix B is not full-rank\n"
     ]
    }
   ],
   "source": [
    "nA, mA = A.shape\n",
    "nB, mB = B.shape\n",
    "\n",
    "if (A_rank == min(nA,mA)):\n",
    "    print(\"Matrix A is full-rank\")\n",
    "else:\n",
    "    print(\"Matrix A is not full-rank\")\n",
    "\n",
    "if (B_rank == min(nB,mB)):\n",
    "    print(\"Matrix B is full-rank\")\n",
    "else:\n",
    "    print(\"Matrix B is not full-rank\")"
   ]
  },
  {
   "cell_type": "markdown",
   "metadata": {},
   "source": [
    "Can you infer some relationship between the values of the eigenvalues and the full-rank condition?  \n",
    "    As we have seen from the previous case, if the matrix is squared (like $A$ and $B$), then: \n",
    "- $A$ has all non-zero eigenvalues therefore it is full-rank.\n",
    "- $B$ has at least one zero eigenvalues and so it's not full rank.\n",
    "\n",
    "Indeed:\n",
    "- If a square matrix $A$ has at least one eigenvalue equal to zero, it means the matrix is not invertible (since its determinant will be equals to zero) and therefore not full-rank. \n",
    "    \n",
    "    Indeed, since the determinant of a matrix is equal to the product of its eigenvalues, if one of its eigenvalues is zero, the determinant of that matrix will be zero.\n",
    "- If a square matrix has all non-zero eigenvalues, it is full-rank and invertible."
   ]
  },
  {
   "cell_type": "markdown",
   "metadata": {},
   "source": [
    "### Examples\n",
    "Full-rank matrix:\n",
    "$$ C = \\begin{bmatrix} 1 & 2 & 3 \\\\ 0 & 4 & 5 \\\\ 1 & 0 & 6 \\end{bmatrix} $$\n",
    "\n",
    "Non full-rank matrix:\n",
    "$$ D = \\begin{bmatrix} 1 & 0 & 1 \\\\ 0 & 1 & 1 \\\\ 0 & 1 & 1 \\end{bmatrix} $$"
   ]
  },
  {
   "cell_type": "code",
   "execution_count": 25,
   "metadata": {},
   "outputs": [
    {
     "name": "stdout",
     "output_type": "stream",
     "text": [
      "The rank of matrix C is 3\n",
      "The eigenvalues of matrix C are [7.04096459 1.08849669 2.87053872]\n",
      "Matrix C is full-rank, because all its eigenvalues are different from zero\n",
      "\n",
      "The rank of matrix D is 2\n",
      "The eigenvalues of matrix D are [1. 2. 0.]\n",
      "Matrix D is not full-rank, because it has at least one eigenvalue equal to zero\n",
      "\n",
      "Indeed:\n",
      "The determinant of full rank matrix C is: 22.000000000000004\n",
      "The determinant of non full rank matrix D is: 0.0\n"
     ]
    }
   ],
   "source": [
    "# -- FULL RANK MATRIX --\n",
    "C = np.array([[1,2,3], [0,4,5], [1,0,6]])\n",
    "C_rank = np.linalg.matrix_rank(C)\n",
    "\n",
    "print(f\"The rank of matrix C is {C_rank}\")\n",
    "\n",
    "C_eigenvalues = np.linalg.eigvals(C)\n",
    "print(f\"The eigenvalues of matrix C are {C_eigenvalues}\")\n",
    "\n",
    "nC, mC = C.shape\n",
    "if (C_rank == min(nC,mC)):\n",
    "    print(\"Matrix C is full-rank, because all its eigenvalues are different from zero\")\n",
    "else:\n",
    "    print(\"Matrix C is not full-rank, because it has at least one eigenvalue equal to zero\")\n",
    "    \n",
    "    \n",
    "# -- NON FULL RANK MATRIX --\n",
    "D = np.array([[1,0,1], [0,1,1], [0,1,1]])\n",
    "D_rank = np.linalg.matrix_rank(D)\n",
    "\n",
    "print(f\"\\nThe rank of matrix D is {D_rank}\")\n",
    "\n",
    "D_eigenvalues = np.linalg.eigvals(D)\n",
    "print(f\"The eigenvalues of matrix D are {D_eigenvalues}\")\n",
    "\n",
    "nD, mD = D.shape\n",
    "if (D_rank == min(nD,mD)):\n",
    "    print(\"Matrix D is full-rank, because all its eigenvalues are different from zero\")\n",
    "else:\n",
    "    print(\"Matrix D is not full-rank, because it has at least one eigenvalue equal to zero\")\n",
    "    \n",
    "    \n",
    "# Determinant checking\n",
    "print(\"\")\n",
    "print(\"Indeed:\")\n",
    "print(f\"The determinant of full rank matrix C is: {np.linalg.det(C)}\")\n",
    "print(f\"The determinant of non full rank matrix D is: {np.linalg.det(D)}\")"
   ]
  }
 ],
 "metadata": {
  "kernelspec": {
   "display_name": "SMM_Project",
   "language": "python",
   "name": "python3"
  },
  "language_info": {
   "codemirror_mode": {
    "name": "ipython",
    "version": 3
   },
   "file_extension": ".py",
   "mimetype": "text/x-python",
   "name": "python",
   "nbconvert_exporter": "python",
   "pygments_lexer": "ipython3",
   "version": "3.10.15"
  }
 },
 "nbformat": 4,
 "nbformat_minor": 2
}
